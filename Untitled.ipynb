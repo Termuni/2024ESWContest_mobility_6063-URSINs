{
 "cells": [
  {
   "cell_type": "code",
   "execution_count": 3,
   "id": "47a0593c-b5f4-46dd-b02f-b74f220b6e96",
   "metadata": {},
   "outputs": [
    {
     "ename": "AttributeError",
     "evalue": "partially initialized module 'pygame' has no attribute 'color' (most likely due to a circular import)",
     "output_type": "error",
     "traceback": [
      "\u001b[1;31m---------------------------------------------------------------------------\u001b[0m",
      "\u001b[1;31mAttributeError\u001b[0m                            Traceback (most recent call last)",
      "Cell \u001b[1;32mIn[3], line 3\u001b[0m\n\u001b[0;32m      1\u001b[0m \u001b[38;5;28;01mimport\u001b[39;00m \u001b[38;5;21;01msys\u001b[39;00m\n\u001b[1;32m----> 3\u001b[0m \u001b[38;5;28;01mimport\u001b[39;00m \u001b[38;5;21;01mpygame\u001b[39;00m\n\u001b[0;32m      5\u001b[0m \u001b[38;5;28;01mfrom\u001b[39;00m \u001b[38;5;21;01mpygame\u001b[39;00m\u001b[38;5;21;01m.\u001b[39;00m\u001b[38;5;21;01mlocals\u001b[39;00m \u001b[38;5;28;01mimport\u001b[39;00m \u001b[38;5;241m*\u001b[39m\n\u001b[0;32m      7\u001b[0m pygame\u001b[38;5;241m.\u001b[39minit()\n",
      "File \u001b[1;32mc:\\Users\\USER\\anaconda3\\Lib\\site-packages\\pygame\\__init__.py:100\u001b[0m\n\u001b[0;32m     97\u001b[0m \u001b[38;5;28;01mimport\u001b[39;00m \u001b[38;5;21;01mpygame\u001b[39;00m\u001b[38;5;21;01m.\u001b[39;00m\u001b[38;5;21;01msurflock\u001b[39;00m\n\u001b[0;32m     98\u001b[0m \u001b[38;5;28;01mimport\u001b[39;00m \u001b[38;5;21;01mpygame\u001b[39;00m\u001b[38;5;21;01m.\u001b[39;00m\u001b[38;5;21;01mcolor\u001b[39;00m\n\u001b[1;32m--> 100\u001b[0m Color \u001b[38;5;241m=\u001b[39m pygame\u001b[38;5;241m.\u001b[39mcolor\u001b[38;5;241m.\u001b[39mColor\n\u001b[0;32m    101\u001b[0m \u001b[38;5;28;01mimport\u001b[39;00m \u001b[38;5;21;01mpygame\u001b[39;00m\u001b[38;5;21;01m.\u001b[39;00m\u001b[38;5;21;01mbufferproxy\u001b[39;00m\n\u001b[0;32m    103\u001b[0m BufferProxy \u001b[38;5;241m=\u001b[39m pygame\u001b[38;5;241m.\u001b[39mbufferproxy\u001b[38;5;241m.\u001b[39mBufferProxy\n",
      "\u001b[1;31mAttributeError\u001b[0m: partially initialized module 'pygame' has no attribute 'color' (most likely due to a circular import)"
     ]
    }
   ],
   "source": [
    "import sys\n",
    "\n",
    "import pygame\n",
    "\n",
    "from pygame.locals import *\n",
    "\n",
    "pygame.init()\n",
    "pygame.display.set_caption('game base')\n",
    "screen = pygame.display.set_mode((500, 500), 0, 32)\n",
    "clock = pygame.time.Clock()\n",
    "\n",
    "pygame.joystick.init()\n",
    "\n",
    "joysticks = [pygame.joystick.Joystick(i) for i in range(pygame.joystick.get_count())]\n",
    "\n",
    "for joystick in joysticks:\n",
    "    print(joystick.get_name())\n",
    "\n",
    "my_square = pygame.Rect(50, 50, 50, 50)\n",
    "my_square_color = 0\n",
    "colors = [(255, 0, 0), (0, 255, 0), (0, 0, 255)]\n",
    "motion = [0, 0]\n",
    "\n",
    "while True:\n",
    "\n",
    "    screen.fill((0, 0, 0))\n",
    "\n",
    "    pygame.draw.rect(screen, colors[my_square_color], my_square)\n",
    "    if abs(motion[0]) < 0.1:\n",
    "        motion[0] = 0\n",
    "    if abs(motion[1]) < 0.1:\n",
    "        motion[1] = 0\n",
    "    my_square.x += motion[0] * 10\n",
    "    my_square.y += motion[1] * 10\n",
    "\n",
    "    for event in pygame.event.get():\n",
    "        if event.type == JOYBUTTONDOWN:\n",
    "            print(event)\n",
    "            if event.button == 0:\n",
    "                my_square_color = (my_square_color + 1) % len(colors)\n",
    "        if event.type == JOYBUTTONUP:\n",
    "            print(event)\n",
    "        if event.type == JOYAXISMOTION:\n",
    "            print(event)\n",
    "            if event.axis < 2:\n",
    "                motion[event.axis] = event.value\n",
    "        if event.type == JOYHATMOTION:\n",
    "            print(event)\n",
    "        if event.type == JOYDEVICEADDED:\n",
    "            joysticks = [pygame.joystick.Joystick(i) for i in range(pygame.joystick.get_count())]\n",
    "            for joystick in joysticks:\n",
    "                print(joystick.get_name())\n",
    "        if event.type == JOYDEVICEREMOVED:\n",
    "            joysticks = [pygame.joystick.Joystick(i) for i in range(pygame.joystick.get_count())]\n",
    "        if event.type == QUIT:\n",
    "            pygame.quit()\n",
    "            sys.exit()\n",
    "        if event.type == KEYDOWN:\n",
    "            if event.key == K_ESCAPE:\n",
    "                pygame.quit()\n",
    "                sys.exit()\n",
    "\n",
    "    pygame.display.update()\n",
    "    clock.tick(60)"
   ]
  },
  {
   "cell_type": "code",
   "execution_count": null,
   "id": "9a80344a-aa5b-4318-b3da-cbaa55f154c7",
   "metadata": {},
   "outputs": [],
   "source": []
  }
 ],
 "metadata": {
  "kernelspec": {
   "display_name": "Python 3 (ipykernel)",
   "language": "python",
   "name": "python3"
  },
  "language_info": {
   "codemirror_mode": {
    "name": "ipython",
    "version": 3
   },
   "file_extension": ".py",
   "mimetype": "text/x-python",
   "name": "python",
   "nbconvert_exporter": "python",
   "pygments_lexer": "ipython3",
   "version": "3.11.7"
  }
 },
 "nbformat": 4,
 "nbformat_minor": 5
}
