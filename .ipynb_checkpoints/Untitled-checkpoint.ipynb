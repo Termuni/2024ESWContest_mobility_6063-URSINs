{
 "cells": [
  {
   "cell_type": "code",
   "execution_count": 1,
   "id": "47a0593c-b5f4-46dd-b02f-b74f220b6e96",
   "metadata": {},
   "outputs": [
    {
     "name": "stdout",
     "output_type": "stream",
     "text": [
      "pygame 2.6.0 (SDL 2.28.4, Python 3.11.7)\n",
      "Hello from the pygame community. https://www.pygame.org/contribute.html\n"
     ]
    },
    {
     "ename": "ModuleNotFoundError",
     "evalue": "No module named 'gpiozero'",
     "output_type": "error",
     "traceback": [
      "\u001b[1;31m---------------------------------------------------------------------------\u001b[0m",
      "\u001b[1;31mModuleNotFoundError\u001b[0m                       Traceback (most recent call last)",
      "Cell \u001b[1;32mIn[1], line 4\u001b[0m\n\u001b[0;32m      2\u001b[0m \u001b[38;5;28;01mimport\u001b[39;00m \u001b[38;5;21;01msys\u001b[39;00m\n\u001b[0;32m      3\u001b[0m \u001b[38;5;28;01mimport\u001b[39;00m \u001b[38;5;21;01mpygame\u001b[39;00m\u001b[38;5;21;01m.\u001b[39;00m\u001b[38;5;21;01mjoystick\u001b[39;00m\n\u001b[1;32m----> 4\u001b[0m \u001b[38;5;28;01mfrom\u001b[39;00m \u001b[38;5;21;01mgpiozero\u001b[39;00m \u001b[38;5;28;01mimport\u001b[39;00m Button\n\u001b[0;32m      6\u001b[0m pygame\u001b[38;5;241m.\u001b[39minit()\n\u001b[0;32m      8\u001b[0m pygame\u001b[38;5;241m.\u001b[39mjoystick\u001b[38;5;241m.\u001b[39minit()\n",
      "\u001b[1;31mModuleNotFoundError\u001b[0m: No module named 'gpiozero'"
     ]
    }
   ],
   "source": [
    "import pygame\n",
    "import sys\n",
    "import pygame.joystick\n",
    "\n",
    "\n",
    "pygame.init()\n",
    "\n",
    "pygame.joystick.init()\n",
    "\n",
    "joystick = pygame.joystick.Joystick(0)\n",
    "\n",
    "joystick.init()\n",
    "\n",
    "i = 0\n",
    "\n",
    "while i<500000000000:\n",
    "    print(\"wheel : {}\".format(joystick.get_axis(0)))    \n",
    "\n"
   ]
  },
  {
   "cell_type": "code",
   "execution_count": null,
   "id": "9a80344a-aa5b-4318-b3da-cbaa55f154c7",
   "metadata": {},
   "outputs": [],
   "source": []
  }
 ],
 "metadata": {
  "kernelspec": {
   "display_name": "Python 3 (ipykernel)",
   "language": "python",
   "name": "python3"
  },
  "language_info": {
   "codemirror_mode": {
    "name": "ipython",
    "version": 3
   },
   "file_extension": ".py",
   "mimetype": "text/x-python",
   "name": "python",
   "nbconvert_exporter": "python",
   "pygments_lexer": "ipython3",
   "version": "3.11.7"
  }
 },
 "nbformat": 4,
 "nbformat_minor": 5
}
