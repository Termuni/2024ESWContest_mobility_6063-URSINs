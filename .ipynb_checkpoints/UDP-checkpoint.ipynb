{
 "cells": [
  {
   "cell_type": "code",
   "execution_count": 2,
   "id": "a9855648-942f-4227-9b6d-1fcc45ace3f4",
   "metadata": {},
   "outputs": [
    {
     "name": "stdout",
     "output_type": "stream",
     "text": [
      "UDP server is up and listening\n"
     ]
    },
    {
     "ename": "KeyboardInterrupt",
     "evalue": "",
     "output_type": "error",
     "traceback": [
      "\u001b[1;31m---------------------------------------------------------------------------\u001b[0m",
      "\u001b[1;31mKeyboardInterrupt\u001b[0m                         Traceback (most recent call last)",
      "Cell \u001b[1;32mIn[2], line 23\u001b[0m\n\u001b[0;32m     21\u001b[0m \u001b[38;5;28;01mwhile\u001b[39;00m(\u001b[38;5;28;01mTrue\u001b[39;00m):\n\u001b[0;32m     22\u001b[0m   \u001b[38;5;28;01mtry\u001b[39;00m:\n\u001b[1;32m---> 23\u001b[0m     udp_server_socket\u001b[38;5;241m.\u001b[39msendto((sendBuffer)\u001b[38;5;241m.\u001b[39mto_bytes(\u001b[38;5;241m1\u001b[39m, byteorder\u001b[38;5;241m=\u001b[39m\u001b[38;5;124m\"\u001b[39m\u001b[38;5;124mbig\u001b[39m\u001b[38;5;124m\"\u001b[39m), server_addr_port)\n\u001b[0;32m     24\u001b[0m   \u001b[38;5;28;01mexcept\u001b[39;00m \u001b[38;5;167;01mBlockingIOError\u001b[39;00m:\n\u001b[0;32m     25\u001b[0m     \u001b[38;5;28;01mcontinue\u001b[39;00m\n",
      "\u001b[1;31mKeyboardInterrupt\u001b[0m: "
     ]
    }
   ],
   "source": [
    "import socket\n",
    " \n",
    "# 클라이언트가 보내고자 하는 서버의 IP와 PORT\n",
    "server_ip = \"127.0.0.1\"\n",
    "server_port = 26000\n",
    "server_addr_port = (server_ip, server_port)\n",
    "\n",
    " \n",
    "# 소켓을 UDP로 열고 서버의 IP/PORT를 연결한다. 그리고 Non-blocking로 바꾼다.\n",
    "udp_server_socket = socket.socket(family=socket.AF_INET, type=socket.SOCK_DGRAM)\n",
    "udp_server_socket.setsockopt(socket.SOL_SOCKET, socket.SO_REUSEADDR, 1)\n",
    "udp_server_socket.bind(server_addr_port)\n",
    "udp_server_socket.setblocking(False)\n",
    "# udp_server_socket.settimeout(1.0) -> Timeout 추가하면 Timeout Exception 처리도 해주어야 함\n",
    " \n",
    "print(\"UDP server is up and listening\")\n",
    "\n",
    "sendBuffer = 10\n",
    " \n",
    "# Listen Datagram incoming\n",
    "while(True):\n",
    "  try:\n",
    "    udp_server_socket.sendto((sendBuffer).to_bytes(1, byteorder=\"big\"), server_addr_port)\n",
    "  except BlockingIOError:\n",
    "    continue\n",
    "\n",
    "udp_server_socket.close()\n"
   ]
  },
  {
   "cell_type": "code",
   "execution_count": null,
   "id": "f157510b-8009-4d00-89af-1bcd18c839ac",
   "metadata": {},
   "outputs": [],
   "source": []
  }
 ],
 "metadata": {
  "kernelspec": {
   "display_name": "Python 3 (ipykernel)",
   "language": "python",
   "name": "python3"
  },
  "language_info": {
   "codemirror_mode": {
    "name": "ipython",
    "version": 3
   },
   "file_extension": ".py",
   "mimetype": "text/x-python",
   "name": "python",
   "nbconvert_exporter": "python",
   "pygments_lexer": "ipython3",
   "version": "3.11.7"
  }
 },
 "nbformat": 4,
 "nbformat_minor": 5
}
