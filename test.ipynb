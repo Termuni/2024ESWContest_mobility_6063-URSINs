{
 "cells": [
  {
   "cell_type": "code",
   "execution_count": 1,
   "id": "bfa7e070-961e-4a34-a84f-14a860a92d56",
   "metadata": {},
   "outputs": [
    {
     "name": "stdout",
     "output_type": "stream",
     "text": [
      " i  par       ser  ven  prd  ver  name\n",
      "  0  31           045E 0000 0000  @hidserv.inf,%hid_device_system_consumer%;HID-compliant consumer control device\n",
      "  1  31           045E 0000 0000  @input.inf,%hid_device_system_control%;HID-compliant system controller\n",
      "  2  33 f473359448e3 046D B342 0000  Multi-Device Keyboard K380     \n",
      "  3  30      9999 04F3 30EA 0003  HIDI2C Device\n",
      "  4  33 f473359448e3 046D B342 0000  Multi-Device Keyboard K380     \n",
      "  5  33 f473359448e3 046D B342 0000  Multi-Device Keyboard K380     \n",
      "  6  32           046D C52B 1211  USB Receiver\n",
      "  7  33 f473359448e3 046D B342 0000  Multi-Device Keyboard K380     \n",
      "  8  33 f473359448e3 046D B342 0000  Multi-Device Keyboard K380     \n",
      "  9  33 f473359448e3 046D B342 0000  Multi-Device Keyboard K380     \n",
      " 10  32           046D C52B 1211  USB Receiver\n",
      " 11  32           046D C52B 1211  USB Receiver\n",
      " 12  41           046D C52B 1211  USB Receiver\n",
      " 13  41           046D C52B 1211  USB Receiver\n",
      " 14  30      9999 04F3 30EA 0003  HIDI2C Device\n",
      " 15  41           046D C52B 1211  USB Receiver\n"
     ]
    },
    {
     "name": "stdin",
     "output_type": "stream",
     "text": [
      "\n",
      "Enter number to select device (0-15)\n",
      " 2\n"
     ]
    },
    {
     "name": "stdout",
     "output_type": "stream",
     "text": [
      "You have selected Multi-Device Keyboard K380     \n",
      "\n",
      "Waiting for data...\n",
      "Press any (system keyboard) key to stop...\n"
     ]
    },
    {
     "ename": "KeyboardInterrupt",
     "evalue": "",
     "output_type": "error",
     "traceback": [
      "\u001b[1;31m---------------------------------------------------------------------------\u001b[0m",
      "\u001b[1;31mKeyboardInterrupt\u001b[0m                         Traceback (most recent call last)",
      "Cell \u001b[1;32mIn[1], line 29\u001b[0m\n\u001b[0;32m     26\u001b[0m     \u001b[38;5;28mprint\u001b[39m(\u001b[38;5;124m\"\u001b[39m\u001b[38;5;130;01m\\n\u001b[39;00m\u001b[38;5;124mWaiting for data...\u001b[39m\u001b[38;5;130;01m\\n\u001b[39;00m\u001b[38;5;124mPress any (system keyboard) key to stop...\u001b[39m\u001b[38;5;124m\"\u001b[39m)\n\u001b[0;32m     27\u001b[0m     \u001b[38;5;28;01mwhile\u001b[39;00m \u001b[38;5;129;01mnot\u001b[39;00m kbhit() \u001b[38;5;129;01mand\u001b[39;00m device\u001b[38;5;241m.\u001b[39mis_plugged():\n\u001b[0;32m     28\u001b[0m         \u001b[38;5;66;03m# just keep the device opened to receive events\u001b[39;00m\n\u001b[1;32m---> 29\u001b[0m         sleep(\u001b[38;5;241m0.5\u001b[39m)\n\u001b[0;32m     30\u001b[0m \u001b[38;5;28;01mfinally\u001b[39;00m:\n\u001b[0;32m     31\u001b[0m     device\u001b[38;5;241m.\u001b[39mclose()\n",
      "\u001b[1;31mKeyboardInterrupt\u001b[0m: "
     ]
    }
   ],
   "source": [
    "import pywinusb.hid as hid\n",
    "\n",
    "from time import sleep\n",
    "from msvcrt import kbhit\n",
    "\n",
    "\n",
    "def sample_handler(data):\n",
    "    print(\"Raw data: {0:}\".format(data))\n",
    "\n",
    "\n",
    "devices = hid.HidDeviceFilter().get_devices()\n",
    "print(' i  par       ser  ven  prd  ver  name')\n",
    "for i, dev in enumerate(devices):\n",
    "    print(\"{0:> 3} {1:> 2} {2:>9} {3:04X} {4:04X} {5:04X}  {6:}\"\n",
    "          .format(i, dev.parent_instance_id, dev.serial_number, dev.vendor_id, \n",
    "                  dev.product_id, dev.version_number, dev.product_name))\n",
    "\n",
    "selection = int(input(\"\\nEnter number to select device (0-{})\\n\".format(i)))\n",
    "device = devices[selection]\n",
    "print(\"You have selected {}\".format(device.product_name))\n",
    "try:\n",
    "    device.open()\n",
    "    # set custom raw data handler\n",
    "    device.set_raw_data_handler(sample_handler)\n",
    "\n",
    "    print(\"\\nWaiting for data...\\nPress any (system keyboard) key to stop...\")\n",
    "    while not kbhit() and device.is_plugged():\n",
    "        # just keep the device opened to receive events\n",
    "        sleep(0.5)\n",
    "finally:\n",
    "    device.close()"
   ]
  },
  {
   "cell_type": "code",
   "execution_count": null,
   "id": "a5606ec3-66d1-49ed-8f34-e7c8629bb76e",
   "metadata": {},
   "outputs": [],
   "source": []
  }
 ],
 "metadata": {
  "kernelspec": {
   "display_name": "Python 3 (ipykernel)",
   "language": "python",
   "name": "python3"
  },
  "language_info": {
   "codemirror_mode": {
    "name": "ipython",
    "version": 3
   },
   "file_extension": ".py",
   "mimetype": "text/x-python",
   "name": "python",
   "nbconvert_exporter": "python",
   "pygments_lexer": "ipython3",
   "version": "3.11.7"
  }
 },
 "nbformat": 4,
 "nbformat_minor": 5
}
