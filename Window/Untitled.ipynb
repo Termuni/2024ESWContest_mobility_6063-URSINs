{
 "cells": [
  {
   "cell_type": "code",
   "execution_count": 1,
   "id": "d325b04a-c94a-4113-8bc4-6c57c5b725b2",
   "metadata": {},
   "outputs": [
    {
     "name": "stdout",
     "output_type": "stream",
     "text": [
      "버튼이 클릭되었습니다.\n"
     ]
    }
   ],
   "source": [
    "import tkinter as tk\n",
    "\n",
    "def button_click():\n",
    "    print(\"버튼이 클릭되었습니다.\")\n",
    "\n",
    "window = tk.Tk()\n",
    "button = tk.Button(window, text=\"클릭!\", command=button_click)\n",
    "button.pack()\n",
    "\n",
    "window.mainloop()"
   ]
  },
  {
   "cell_type": "code",
   "execution_count": null,
   "id": "e7766711-d2b9-4ab6-ae37-7d2726388c89",
   "metadata": {},
   "outputs": [],
   "source": []
  }
 ],
 "metadata": {
  "kernelspec": {
   "display_name": "Python 3 (ipykernel)",
   "language": "python",
   "name": "python3"
  },
  "language_info": {
   "codemirror_mode": {
    "name": "ipython",
    "version": 3
   },
   "file_extension": ".py",
   "mimetype": "text/x-python",
   "name": "python",
   "nbconvert_exporter": "python",
   "pygments_lexer": "ipython3",
   "version": "3.11.7"
  }
 },
 "nbformat": 4,
 "nbformat_minor": 5
}
